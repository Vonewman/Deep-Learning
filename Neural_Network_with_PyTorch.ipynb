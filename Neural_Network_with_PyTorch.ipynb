{
  "nbformat": 4,
  "nbformat_minor": 0,
  "metadata": {
    "colab": {
      "name": "Neural Network with PyTorch.ipynb",
      "provenance": [],
      "authorship_tag": "ABX9TyMXFd2nUkM9RIx8ZJ172k99",
      "include_colab_link": true
    },
    "kernelspec": {
      "name": "python3",
      "display_name": "Python 3"
    },
    "language_info": {
      "name": "python"
    },
    "accelerator": "GPU"
  },
  "cells": [
    {
      "cell_type": "markdown",
      "metadata": {
        "id": "view-in-github",
        "colab_type": "text"
      },
      "source": [
        "<a href=\"https://colab.research.google.com/github/Vonewman/Deep-Learning/blob/master/Neural_Network_with_PyTorch.ipynb\" target=\"_parent\"><img src=\"https://colab.research.google.com/assets/colab-badge.svg\" alt=\"Open In Colab\"/></a>"
      ]
    },
    {
      "cell_type": "markdown",
      "metadata": {
        "id": "pSFomRGrbbsx"
      },
      "source": [
        "## Working with Data"
      ]
    },
    {
      "cell_type": "code",
      "metadata": {
        "id": "9xZ6k3poayyO"
      },
      "source": [
        "import torch\n",
        "import torch.nn as nn\n",
        "from torch.utils.data import DataLoader\n",
        "from torchvision import datasets\n",
        "from torchvision.transforms import ToTensor, Lambda, Compose\n",
        "import matplotlib.pyplot as plt"
      ],
      "execution_count": 17,
      "outputs": []
    },
    {
      "cell_type": "code",
      "metadata": {
        "id": "yIyzAowpc2fK"
      },
      "source": [
        "# Download training data from open datasets\n",
        "training_data = datasets.FashionMNIST(\n",
        "    root='data',\n",
        "    train=True,\n",
        "    download=True,\n",
        "    transform=ToTensor(),\n",
        ")\n",
        "\n",
        "# Download test data from open datasets.\n",
        "test_data = datasets.FashionMNIST(\n",
        "    root=\"data\",\n",
        "    train=False,\n",
        "    download=True,\n",
        "    transform=ToTensor(),\n",
        ")"
      ],
      "execution_count": 18,
      "outputs": []
    },
    {
      "cell_type": "code",
      "metadata": {
        "colab": {
          "base_uri": "https://localhost:8080/"
        },
        "id": "NnjtsINieBfC",
        "outputId": "1c83bbb4-aee5-4b40-a4e7-9aa4d574edc4"
      },
      "source": [
        "batch_size = 64\n",
        "\n",
        "# Create data loaders.\n",
        "train_dataloader = DataLoader(training_data, batch_size=batch_size)\n",
        "test_dataloader = DataLoader(test_data, batch_size=batch_size)\n",
        "\n",
        "for X, y in test_dataloader:\n",
        "    print(\"Shape of X [N, C, H, W]: \", X.shape)\n",
        "    print(\"Shape of y: \", y.shape, y.dtype)\n",
        "    break"
      ],
      "execution_count": 19,
      "outputs": [
        {
          "output_type": "stream",
          "text": [
            "Shape of X [N, C, H, W]:  torch.Size([64, 1, 28, 28])\n",
            "Shape of y:  torch.Size([64]) torch.int64\n"
          ],
          "name": "stdout"
        }
      ]
    },
    {
      "cell_type": "markdown",
      "metadata": {
        "id": "O7YACHkBfmH0"
      },
      "source": [
        "## Creating Models"
      ]
    },
    {
      "cell_type": "code",
      "metadata": {
        "colab": {
          "base_uri": "https://localhost:8080/"
        },
        "id": "E8MHRTSpe9FQ",
        "outputId": "9ac2e1bb-2504-404b-9008-aecd792a2cad"
      },
      "source": [
        "# Get cpu or gpu device for training.\n",
        "device = \"cuda\" if torch.cuda.is_available() else \"cpu\"\n",
        "print(\"Using {} device\".format(device))\n",
        "\n",
        "# Define model\n",
        "class NeuralNetwork(nn.Module):\n",
        "\n",
        "    def __init__(self):\n",
        "        super(NeuralNetwork, self).__init__()\n",
        "        self.flatten = nn.Flatten()\n",
        "        self.linear_relu_stack = nn.Sequential(\n",
        "            nn.Linear(28*28, 512),\n",
        "            nn.ReLU(),\n",
        "            nn.Linear(512, 512),\n",
        "            nn.ReLU(),\n",
        "            nn.Linear(512, 10),\n",
        "            nn.ReLU()\n",
        "        )\n",
        "\n",
        "    def forward(self, x):\n",
        "        x = self.flatten(x)\n",
        "        logits = self.linear_relu_stack(x)\n",
        "        return logits\n",
        "\n",
        "model = NeuralNetwork().to(device)\n",
        "print(model)"
      ],
      "execution_count": 20,
      "outputs": [
        {
          "output_type": "stream",
          "text": [
            "Using cuda device\n",
            "NeuralNetwork(\n",
            "  (flatten): Flatten(start_dim=1, end_dim=-1)\n",
            "  (linear_relu_stack): Sequential(\n",
            "    (0): Linear(in_features=784, out_features=512, bias=True)\n",
            "    (1): ReLU()\n",
            "    (2): Linear(in_features=512, out_features=512, bias=True)\n",
            "    (3): ReLU()\n",
            "    (4): Linear(in_features=512, out_features=10, bias=True)\n",
            "    (5): ReLU()\n",
            "  )\n",
            ")\n"
          ],
          "name": "stdout"
        }
      ]
    },
    {
      "cell_type": "markdown",
      "metadata": {
        "id": "ZNi491yUmfrN"
      },
      "source": [
        "## Optimizing the Model Parameters"
      ]
    },
    {
      "cell_type": "code",
      "metadata": {
        "id": "WnYyz87PlH48"
      },
      "source": [
        "loss_fn = nn.CrossEntropyLoss()\n",
        "optimizer = torch.optim.SGD(model.parameters(), lr=1e-3)"
      ],
      "execution_count": 21,
      "outputs": []
    },
    {
      "cell_type": "code",
      "metadata": {
        "id": "djOO3MA2mtlJ"
      },
      "source": [
        "def train(dataloader, model, loss_fn, optimizer):\n",
        "    size = len(dataloader.dataset)\n",
        "    for batch, (X, y) in enumerate(dataloader):\n",
        "        X, y = X.to(device), y.to(device)\n",
        "\n",
        "        # Compute prediction error\n",
        "        pred = model(X)\n",
        "        loss = loss_fn(pred, y)\n",
        "\n",
        "        # Backpropagation\n",
        "        optimizer.zero_grad()\n",
        "        loss.backward()\n",
        "        optimizer.step()\n",
        "\n",
        "        if batch % 100 == 0:\n",
        "            loss, current = loss.item(), batch * len(X)\n",
        "            print(f\"loss: {loss:>7f}  [{current:>5d}/{size:>5d}]\")"
      ],
      "execution_count": 22,
      "outputs": []
    },
    {
      "cell_type": "code",
      "metadata": {
        "id": "J496A30ynCMt"
      },
      "source": [
        "def test(dataloader, model, loss_fn):\n",
        "    size = len(dataloader.dataset)\n",
        "    num_batches = len(dataloader)\n",
        "    model.eval()\n",
        "    test_loss, correct = 0, 0\n",
        "    with torch.no_grad():\n",
        "        for X, y in dataloader:\n",
        "            X, y = X.to(device), y.to(device)\n",
        "            pred = model(X)\n",
        "            test_loss += loss_fn(pred, y).item()\n",
        "            correct += (pred.argmax(1) == y).type(torch.float).sum().item()\n",
        "    test_loss /= num_batches\n",
        "    correct /= size\n",
        "    print(f\"Test Error: \\n Accuracy: {(100*correct):>0.1f}%, Avg loss: {test_loss:>8f} \\n\")"
      ],
      "execution_count": 23,
      "outputs": []
    },
    {
      "cell_type": "code",
      "metadata": {
        "colab": {
          "base_uri": "https://localhost:8080/"
        },
        "id": "vUKnumU-nMw-",
        "outputId": "a1ee6e14-f0db-493b-81de-76e2f2d716c9"
      },
      "source": [
        "epochs = 5\n",
        "for t in range(epochs):\n",
        "    print(f\"Epoch {t+1}\\n-------------------------------\")\n",
        "    train(train_dataloader, model, loss_fn, optimizer)\n",
        "    test(test_dataloader, model, loss_fn)\n",
        "print(\"Done!\")"
      ],
      "execution_count": 24,
      "outputs": [
        {
          "output_type": "stream",
          "text": [
            "Epoch 1\n",
            "-------------------------------\n",
            "loss: 2.301681  [    0/60000]\n",
            "loss: 2.292847  [ 6400/60000]\n",
            "loss: 2.288315  [12800/60000]\n",
            "loss: 2.292377  [19200/60000]\n",
            "loss: 2.257856  [25600/60000]\n",
            "loss: 2.279710  [32000/60000]\n",
            "loss: 2.270860  [38400/60000]\n",
            "loss: 2.266595  [44800/60000]\n",
            "loss: 2.272296  [51200/60000]\n",
            "loss: 2.268351  [57600/60000]\n",
            "Test Error: \n",
            " Accuracy: 34.6%, Avg loss: 2.249553 \n",
            "\n",
            "Epoch 2\n",
            "-------------------------------\n",
            "loss: 2.250988  [    0/60000]\n",
            "loss: 2.226745  [ 6400/60000]\n",
            "loss: 2.229103  [12800/60000]\n",
            "loss: 2.254866  [19200/60000]\n",
            "loss: 2.162813  [25600/60000]\n",
            "loss: 2.223007  [32000/60000]\n",
            "loss: 2.213799  [38400/60000]\n",
            "loss: 2.202770  [44800/60000]\n",
            "loss: 2.230250  [51200/60000]\n",
            "loss: 2.219155  [57600/60000]\n",
            "Test Error: \n",
            " Accuracy: 33.2%, Avg loss: 2.180301 \n",
            "\n",
            "Epoch 3\n",
            "-------------------------------\n",
            "loss: 2.187784  [    0/60000]\n",
            "loss: 2.135109  [ 6400/60000]\n",
            "loss: 2.142927  [12800/60000]\n",
            "loss: 2.202200  [19200/60000]\n",
            "loss: 2.021440  [25600/60000]\n",
            "loss: 2.140491  [32000/60000]\n",
            "loss: 2.134510  [38400/60000]\n",
            "loss: 2.113022  [44800/60000]\n",
            "loss: 2.178245  [51200/60000]\n",
            "loss: 2.156678  [57600/60000]\n",
            "Test Error: \n",
            " Accuracy: 33.2%, Avg loss: 2.088150 \n",
            "\n",
            "Epoch 4\n",
            "-------------------------------\n",
            "loss: 2.106792  [    0/60000]\n",
            "loss: 2.016746  [ 6400/60000]\n",
            "loss: 2.034281  [12800/60000]\n",
            "loss: 2.134588  [19200/60000]\n",
            "loss: 1.861568  [25600/60000]\n",
            "loss: 2.055373  [32000/60000]\n",
            "loss: 2.054032  [38400/60000]\n",
            "loss: 2.028335  [44800/60000]\n",
            "loss: 2.125237  [51200/60000]\n",
            "loss: 2.098572  [57600/60000]\n",
            "Test Error: \n",
            " Accuracy: 34.7%, Avg loss: 1.996299 \n",
            "\n",
            "Epoch 5\n",
            "-------------------------------\n",
            "loss: 2.031742  [    0/60000]\n",
            "loss: 1.909508  [ 6400/60000]\n",
            "loss: 1.933045  [12800/60000]\n",
            "loss: 2.046792  [19200/60000]\n",
            "loss: 1.715115  [25600/60000]\n",
            "loss: 1.986873  [32000/60000]\n",
            "loss: 1.960379  [38400/60000]\n",
            "loss: 1.943593  [44800/60000]\n",
            "loss: 2.050630  [51200/60000]\n",
            "loss: 2.022753  [57600/60000]\n",
            "Test Error: \n",
            " Accuracy: 42.9%, Avg loss: 1.894727 \n",
            "\n",
            "Done!\n"
          ],
          "name": "stdout"
        }
      ]
    },
    {
      "cell_type": "markdown",
      "metadata": {
        "id": "_pC7-jyxqS93"
      },
      "source": [
        "### Saving Models"
      ]
    },
    {
      "cell_type": "code",
      "metadata": {
        "colab": {
          "base_uri": "https://localhost:8080/"
        },
        "id": "cei2-6pVnWn9",
        "outputId": "3bc88d13-ff62-4377-a0fb-c23d73bdb9b9"
      },
      "source": [
        "torch.save(model.state_dict(), \"model.pth\")\n",
        "print(\"Saved PyTorch Model State to model.pth\")"
      ],
      "execution_count": 25,
      "outputs": [
        {
          "output_type": "stream",
          "text": [
            "Saved PyTorch Model State to model.pth\n"
          ],
          "name": "stdout"
        }
      ]
    },
    {
      "cell_type": "markdown",
      "metadata": {
        "id": "7dm28wn4qbfR"
      },
      "source": [
        "### Loading Models"
      ]
    },
    {
      "cell_type": "code",
      "metadata": {
        "colab": {
          "base_uri": "https://localhost:8080/"
        },
        "id": "BA51uzClqXtn",
        "outputId": "ef8c91ef-2761-4280-f73c-be8def18556c"
      },
      "source": [
        "model = NeuralNetwork()\n",
        "model.load_state_dict(torch.load(\"model.pth\"))"
      ],
      "execution_count": 26,
      "outputs": [
        {
          "output_type": "execute_result",
          "data": {
            "text/plain": [
              "<All keys matched successfully>"
            ]
          },
          "metadata": {
            "tags": []
          },
          "execution_count": 26
        }
      ]
    },
    {
      "cell_type": "code",
      "metadata": {
        "colab": {
          "base_uri": "https://localhost:8080/"
        },
        "id": "_CTs_-cMqnfT",
        "outputId": "9d6758c7-5b1e-4c91-9444-5645f3eca82b"
      },
      "source": [
        "classes = [\n",
        "    \"T-shirt/top\",\n",
        "    \"Trouser\",\n",
        "    \"Pullover\",\n",
        "    \"Dress\",\n",
        "    \"Coat\",\n",
        "    \"Sandal\",\n",
        "    \"Shirt\",\n",
        "    \"Sneaker\",\n",
        "    \"Bag\",\n",
        "    \"Ankle boot\",\n",
        "]\n",
        "\n",
        "model.eval()\n",
        "x, y = test_data[0][0], test_data[0][1]\n",
        "with torch.no_grad():\n",
        "    pred = model(x)\n",
        "    predicted, actual = classes[pred[0].argmax(0)], classes[y]\n",
        "    print(f'Predicted: \"{predicted}\", Actual: \"{actual}\"')"
      ],
      "execution_count": 27,
      "outputs": [
        {
          "output_type": "stream",
          "text": [
            "Predicted: \"Ankle boot\", Actual: \"Ankle boot\"\n"
          ],
          "name": "stdout"
        }
      ]
    },
    {
      "cell_type": "code",
      "metadata": {
        "id": "omfmodxvqpwL"
      },
      "source": [
        ""
      ],
      "execution_count": 27,
      "outputs": []
    }
  ]
}